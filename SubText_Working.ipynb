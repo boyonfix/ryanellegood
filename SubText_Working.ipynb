{
  "nbformat": 4,
  "nbformat_minor": 0,
  "metadata": {
    "colab": {
      "provenance": [],
      "authorship_tag": "ABX9TyPjOhUx0xzSDWjcpsFYcdY8",
      "include_colab_link": true
    },
    "kernelspec": {
      "name": "python3",
      "display_name": "Python 3"
    },
    "language_info": {
      "name": "python"
    }
  },
  "cells": [
    {
      "cell_type": "markdown",
      "metadata": {
        "id": "view-in-github",
        "colab_type": "text"
      },
      "source": [
        "<a href=\"https://colab.research.google.com/github/boyonfix/ryanellegood/blob/main/SubText_Working.ipynb\" target=\"_parent\"><img src=\"https://colab.research.google.com/assets/colab-badge.svg\" alt=\"Open In Colab\"/></a>"
      ]
    },
    {
      "cell_type": "markdown",
      "source": [
        "# Installing Google Python Client, Google OAUTH2 Verification, OpenAI"
      ],
      "metadata": {
        "id": "u0F6bpwbdw7R"
      }
    },
    {
      "cell_type": "code",
      "source": [
        "!pip install --upgrade google-api-python-client google-auth-httplib2 google-auth-oauthlib\n",
        "!pip install openai"
      ],
      "metadata": {
        "colab": {
          "base_uri": "https://localhost:8080/"
        },
        "id": "SQFDC4ouKdPC",
        "outputId": "61b3c1ef-0be6-456f-ce0c-7914e5bc83a1"
      },
      "execution_count": null,
      "outputs": [
        {
          "output_type": "stream",
          "name": "stdout",
          "text": [
            "Requirement already satisfied: google-api-python-client in /usr/local/lib/python3.10/dist-packages (2.149.0)\n",
            "Requirement already satisfied: google-auth-httplib2 in /usr/local/lib/python3.10/dist-packages (0.2.0)\n",
            "Requirement already satisfied: google-auth-oauthlib in /usr/local/lib/python3.10/dist-packages (1.2.1)\n",
            "Requirement already satisfied: httplib2<1.dev0,>=0.19.0 in /usr/local/lib/python3.10/dist-packages (from google-api-python-client) (0.22.0)\n",
            "Requirement already satisfied: google-auth!=2.24.0,!=2.25.0,<3.0.0.dev0,>=1.32.0 in /usr/local/lib/python3.10/dist-packages (from google-api-python-client) (2.27.0)\n",
            "Requirement already satisfied: google-api-core!=2.0.*,!=2.1.*,!=2.2.*,!=2.3.0,<3.0.0.dev0,>=1.31.5 in /usr/local/lib/python3.10/dist-packages (from google-api-python-client) (2.19.2)\n",
            "Requirement already satisfied: uritemplate<5,>=3.0.1 in /usr/local/lib/python3.10/dist-packages (from google-api-python-client) (4.1.1)\n",
            "Requirement already satisfied: requests-oauthlib>=0.7.0 in /usr/local/lib/python3.10/dist-packages (from google-auth-oauthlib) (1.3.1)\n",
            "Requirement already satisfied: googleapis-common-protos<2.0.dev0,>=1.56.2 in /usr/local/lib/python3.10/dist-packages (from google-api-core!=2.0.*,!=2.1.*,!=2.2.*,!=2.3.0,<3.0.0.dev0,>=1.31.5->google-api-python-client) (1.65.0)\n",
            "Requirement already satisfied: protobuf!=3.20.0,!=3.20.1,!=4.21.0,!=4.21.1,!=4.21.2,!=4.21.3,!=4.21.4,!=4.21.5,<6.0.0.dev0,>=3.19.5 in /usr/local/lib/python3.10/dist-packages (from google-api-core!=2.0.*,!=2.1.*,!=2.2.*,!=2.3.0,<3.0.0.dev0,>=1.31.5->google-api-python-client) (3.20.3)\n",
            "Requirement already satisfied: proto-plus<2.0.0dev,>=1.22.3 in /usr/local/lib/python3.10/dist-packages (from google-api-core!=2.0.*,!=2.1.*,!=2.2.*,!=2.3.0,<3.0.0.dev0,>=1.31.5->google-api-python-client) (1.24.0)\n",
            "Requirement already satisfied: requests<3.0.0.dev0,>=2.18.0 in /usr/local/lib/python3.10/dist-packages (from google-api-core!=2.0.*,!=2.1.*,!=2.2.*,!=2.3.0,<3.0.0.dev0,>=1.31.5->google-api-python-client) (2.32.3)\n",
            "Requirement already satisfied: cachetools<6.0,>=2.0.0 in /usr/local/lib/python3.10/dist-packages (from google-auth!=2.24.0,!=2.25.0,<3.0.0.dev0,>=1.32.0->google-api-python-client) (5.5.0)\n",
            "Requirement already satisfied: pyasn1-modules>=0.2.1 in /usr/local/lib/python3.10/dist-packages (from google-auth!=2.24.0,!=2.25.0,<3.0.0.dev0,>=1.32.0->google-api-python-client) (0.4.1)\n",
            "Requirement already satisfied: rsa<5,>=3.1.4 in /usr/local/lib/python3.10/dist-packages (from google-auth!=2.24.0,!=2.25.0,<3.0.0.dev0,>=1.32.0->google-api-python-client) (4.9)\n",
            "Requirement already satisfied: pyparsing!=3.0.0,!=3.0.1,!=3.0.2,!=3.0.3,<4,>=2.4.2 in /usr/local/lib/python3.10/dist-packages (from httplib2<1.dev0,>=0.19.0->google-api-python-client) (3.2.0)\n",
            "Requirement already satisfied: oauthlib>=3.0.0 in /usr/local/lib/python3.10/dist-packages (from requests-oauthlib>=0.7.0->google-auth-oauthlib) (3.2.2)\n",
            "Requirement already satisfied: pyasn1<0.7.0,>=0.4.6 in /usr/local/lib/python3.10/dist-packages (from pyasn1-modules>=0.2.1->google-auth!=2.24.0,!=2.25.0,<3.0.0.dev0,>=1.32.0->google-api-python-client) (0.6.1)\n",
            "Requirement already satisfied: charset-normalizer<4,>=2 in /usr/local/lib/python3.10/dist-packages (from requests<3.0.0.dev0,>=2.18.0->google-api-core!=2.0.*,!=2.1.*,!=2.2.*,!=2.3.0,<3.0.0.dev0,>=1.31.5->google-api-python-client) (3.4.0)\n",
            "Requirement already satisfied: idna<4,>=2.5 in /usr/local/lib/python3.10/dist-packages (from requests<3.0.0.dev0,>=2.18.0->google-api-core!=2.0.*,!=2.1.*,!=2.2.*,!=2.3.0,<3.0.0.dev0,>=1.31.5->google-api-python-client) (3.10)\n",
            "Requirement already satisfied: urllib3<3,>=1.21.1 in /usr/local/lib/python3.10/dist-packages (from requests<3.0.0.dev0,>=2.18.0->google-api-core!=2.0.*,!=2.1.*,!=2.2.*,!=2.3.0,<3.0.0.dev0,>=1.31.5->google-api-python-client) (2.2.3)\n",
            "Requirement already satisfied: certifi>=2017.4.17 in /usr/local/lib/python3.10/dist-packages (from requests<3.0.0.dev0,>=2.18.0->google-api-core!=2.0.*,!=2.1.*,!=2.2.*,!=2.3.0,<3.0.0.dev0,>=1.31.5->google-api-python-client) (2024.8.30)\n",
            "Requirement already satisfied: openai in /usr/local/lib/python3.10/dist-packages (1.52.2)\n",
            "Requirement already satisfied: anyio<5,>=3.5.0 in /usr/local/lib/python3.10/dist-packages (from openai) (3.7.1)\n",
            "Requirement already satisfied: distro<2,>=1.7.0 in /usr/lib/python3/dist-packages (from openai) (1.7.0)\n",
            "Requirement already satisfied: httpx<1,>=0.23.0 in /usr/local/lib/python3.10/dist-packages (from openai) (0.27.2)\n",
            "Requirement already satisfied: jiter<1,>=0.4.0 in /usr/local/lib/python3.10/dist-packages (from openai) (0.6.1)\n",
            "Requirement already satisfied: pydantic<3,>=1.9.0 in /usr/local/lib/python3.10/dist-packages (from openai) (2.9.2)\n",
            "Requirement already satisfied: sniffio in /usr/local/lib/python3.10/dist-packages (from openai) (1.3.1)\n",
            "Requirement already satisfied: tqdm>4 in /usr/local/lib/python3.10/dist-packages (from openai) (4.66.5)\n",
            "Requirement already satisfied: typing-extensions<5,>=4.11 in /usr/local/lib/python3.10/dist-packages (from openai) (4.12.2)\n",
            "Requirement already satisfied: idna>=2.8 in /usr/local/lib/python3.10/dist-packages (from anyio<5,>=3.5.0->openai) (3.10)\n",
            "Requirement already satisfied: exceptiongroup in /usr/local/lib/python3.10/dist-packages (from anyio<5,>=3.5.0->openai) (1.2.2)\n",
            "Requirement already satisfied: certifi in /usr/local/lib/python3.10/dist-packages (from httpx<1,>=0.23.0->openai) (2024.8.30)\n",
            "Requirement already satisfied: httpcore==1.* in /usr/local/lib/python3.10/dist-packages (from httpx<1,>=0.23.0->openai) (1.0.6)\n",
            "Requirement already satisfied: h11<0.15,>=0.13 in /usr/local/lib/python3.10/dist-packages (from httpcore==1.*->httpx<1,>=0.23.0->openai) (0.14.0)\n",
            "Requirement already satisfied: annotated-types>=0.6.0 in /usr/local/lib/python3.10/dist-packages (from pydantic<3,>=1.9.0->openai) (0.7.0)\n",
            "Requirement already satisfied: pydantic-core==2.23.4 in /usr/local/lib/python3.10/dist-packages (from pydantic<3,>=1.9.0->openai) (2.23.4)\n"
          ]
        }
      ]
    },
    {
      "cell_type": "markdown",
      "source": [
        "# Importing Relevant Libraries & Authenticating Google Sheets and OpenAi Keys"
      ],
      "metadata": {
        "id": "o3PL-G3yeAiw"
      }
    },
    {
      "cell_type": "code",
      "source": [
        "from google.colab import auth\n",
        "import google.auth\n",
        "from googleapiclient.discovery import build\n",
        "from openai import OpenAI\n",
        "from google.colab import userdata\n",
        "from IPython.display import Image, display, Markdown\n",
        "import time\n",
        "import textwrap\n",
        "\n",
        "# Authenticate with Google Sheets and Drive\n",
        "auth.authenticate_user()\n",
        "creds, _ = google.auth.default()\n",
        "sheets_service = build('sheets', 'v4', credentials=creds)\n",
        "\n",
        "# Initialize OpenAI API key\n",
        "openai.api_key = userdata.get('Bok_Key')\n",
        "\n"
      ],
      "metadata": {
        "id": "sakE8K8qG26l"
      },
      "execution_count": null,
      "outputs": []
    },
    {
      "cell_type": "markdown",
      "source": [
        "# Image Generation, Image Description, and Storage in Google Sheet"
      ],
      "metadata": {
        "id": "jYJI9vfXeQ-g"
      }
    },
    {
      "cell_type": "code",
      "source": [
        "# Wrapping text function\n",
        "def print_wrapped(text, width=80):\n",
        "    wrapped_text = textwrap.fill(text, width=width)\n",
        "    print(wrapped_text)\n",
        "\n",
        "# Image generation function\n",
        "def image_from_prompt(prompt):\n",
        "    client = OpenAI(api_key=OPENAI_API_KEY)\n",
        "    imageresponse = client.images.generate(\n",
        "        model=\"dall-e-3\",\n",
        "        quality=\"hd\",\n",
        "        prompt=prompt,\n",
        "        n=1,\n",
        "        size=\"1024x1024\"\n",
        "    )\n",
        "\n",
        "    image_url = imageresponse.data[0].url\n",
        "    revised_prompt = imageresponse.data[0].revised_prompt\n",
        "\n",
        "    # Display image and prompt in Colab\n",
        "    display(Image(url=image_url, width=500))\n",
        "    display(Markdown(\"## Prompt\"))\n",
        "    print_wrapped(prompt)\n",
        "    display(Markdown(\"## Revised Prompt\"))\n",
        "    print_wrapped(revised_prompt)\n",
        "\n",
        "    # Save image data to Google Sheets\n",
        "    spreadsheet_id = '1T9EmLzhNYXdaaoWnjqXv6Fh2DaQCm2T3qVVUrDBVZdY'  # Replace with your actual Google Sheets ID\n",
        "    sheet_name = 'Sheet1'\n",
        "    range_name = f'{sheet_name}!A2:D'\n",
        "\n",
        "    values = [\n",
        "        [prompt[:20].replace(\" \", \"-\") + \"-\" + str(int(time.time())), prompt, revised_prompt, image_url]\n",
        "    ]\n",
        "    body = {\n",
        "        'values': values\n",
        "    }\n",
        "    result = sheets_service.spreadsheets().values().append(\n",
        "        spreadsheetId=spreadsheet_id, range=range_name,\n",
        "        valueInputOption='USER_ENTERED', body=body).execute()\n",
        "    print(f\"{result.get('updates').get('updatedRows')} rows appended.\")\n",
        "\n",
        "    return {\n",
        "        \"InitialURL\": image_url,\n",
        "        \"Name\": values[0][0],\n",
        "        \"Prompt\": values[0][1],\n",
        "        \"RevisedPrompt\": revised_prompt\n",
        "    }\n",
        "\n",
        "# Description generation from image\n",
        "def description_from_image(image_data, vision_prompt):\n",
        "    # Ensure image_data is valid\n",
        "    if not image_data or \"InitialURL\" not in image_data:\n",
        "        print(\"Error: image_data is invalid.\")\n",
        "        return\n",
        "\n",
        "    client = OpenAI(api_key=OPENAI_API_KEY)\n",
        "\n",
        "    # OpenAI call for description generation\n",
        "    response = client.ChatCompletion.create(\n",
        "        model=\"gpt-4-vision-preview\",\n",
        "        messages=[\n",
        "            {\n",
        "                \"role\": \"user\",\n",
        "                \"content\": [\n",
        "                    {\"type\": \"text\", \"text\": vision_prompt},\n",
        "                    {\n",
        "                        \"type\": \"image_url\",\n",
        "                        \"image_url\": {\"url\": image_data[\"InitialURL\"]},\n",
        "                    },\n",
        "                ],\n",
        "            }\n",
        "        ],\n",
        "        max_tokens=300\n",
        "    )\n",
        "\n",
        "    vision_description = response.choices[0].message.content\n",
        "\n",
        "    display(Markdown(\"## Vision Description\"))\n",
        "    print_wrapped(vision_description)\n",
        "\n",
        "    # Append the vision description to Google Sheets\n",
        "    range_name = f\"{sheet_name}!E2:E\"\n",
        "    result = sheets_service.spreadsheets().values().append(\n",
        "        spreadsheetId=spreadsheet_id, range=range_name,\n",
        "        valueInputOption='USER_ENTERED', body={'values': [[vision_description]]}).execute()\n",
        "    print(\"Record updated successfully.\")\n",
        "\n",
        "    return vision_description"
      ],
      "metadata": {
        "id": "tLg79Xl9YaC1"
      },
      "execution_count": null,
      "outputs": []
    },
    {
      "cell_type": "code",
      "source": [
        "prompt = \"A colorful and whimsical landscape with floating islands and magical creatures\"\n",
        "image_data = image_from_prompt(prompt)"
      ],
      "metadata": {
        "colab": {
          "base_uri": "https://localhost:8080/",
          "height": 807
        },
        "id": "VPDOqomDUPDD",
        "outputId": "085f478e-4e42-4215-cace-2fd0ffcfbad0"
      },
      "execution_count": 39,
      "outputs": [
        {
          "output_type": "display_data",
          "data": {
            "text/html": [
              "<img src=\"https://oaidalleapiprodscus.blob.core.windows.net/private/org-vvnfQBL4vlR6Sl0qTlqz16Oh/user-Bp1tUdg1USwIwvGZzsbKZrCK/img-qXKSzFJCckpEmst0xJvkXDSg.png?st=2024-10-26T06%3A04%3A31Z&se=2024-10-26T08%3A04%3A31Z&sp=r&sv=2024-08-04&sr=b&rscd=inline&rsct=image/png&skoid=d505667d-d6c1-4a0a-bac7-5c84a87759f8&sktid=a48cca56-e6da-484e-a814-9c849652bcb3&skt=2024-10-25T19%3A39%3A33Z&ske=2024-10-26T19%3A39%3A33Z&sks=b&skv=2024-08-04&sig=R1ARKvnk1imzxygx8tz9h/dNejsN8ocjsesq0R4RdrY%3D\" width=\"500\"/>"
            ],
            "text/plain": [
              "<IPython.core.display.Image object>"
            ]
          },
          "metadata": {}
        },
        {
          "output_type": "display_data",
          "data": {
            "text/plain": [
              "<IPython.core.display.Markdown object>"
            ],
            "text/markdown": "## Prompt"
          },
          "metadata": {}
        },
        {
          "output_type": "stream",
          "name": "stdout",
          "text": [
            "A colorful and whimsical landscape with floating islands and magical creatures\n"
          ]
        },
        {
          "output_type": "display_data",
          "data": {
            "text/plain": [
              "<IPython.core.display.Markdown object>"
            ],
            "text/markdown": "## Revised Prompt"
          },
          "metadata": {}
        },
        {
          "output_type": "stream",
          "name": "stdout",
          "text": [
            "Imagine an enchanting scene with a myriad of bright, lively colors. The main\n",
            "focus of the image is a fantastical landscape made up of a series of floating\n",
            "islands, each unique in shape and size. These islands have vibrant and peculiar\n",
            "vegetation, brimming with life. They float effortlessly in the azure sky amidst\n",
            "fluffy white clouds. Surrounding the islands are diverse magical creatures, a\n",
            "mélange of the familiar and the fantastical — unicorns with iridescent manes,\n",
            "gryphons majestically soaring, diminutive fairies fluttering around with\n",
            "delicate wings sparkling in the sunlight. The overall aesthetic suggests a\n",
            "whimsical and magical universe.\n",
            "1 rows appended.\n"
          ]
        }
      ]
    },
    {
      "cell_type": "markdown",
      "source": [
        "Recursive Time"
      ],
      "metadata": {
        "id": "DJ83eu04lWSn"
      }
    }
  ]
}